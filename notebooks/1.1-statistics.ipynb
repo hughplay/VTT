{
 "cells": [
  {
   "cell_type": "code",
   "execution_count": null,
   "id": "d7525fa3-eed3-4335-be3a-0ea0e99c68e6",
   "metadata": {},
   "outputs": [],
   "source": [
    "import jsonlines\n",
    "from collections import defaultdict\n",
    "import json\n",
    "from pathlib import Path\n",
    "import random\n",
    "import matplotlib.pyplot as plt\n",
    "import matplotlib.font_manager\n",
    "import matplotlib.image as mpimg\n",
    "from tqdm.notebook import tqdm"
   ]
  },
  {
   "cell_type": "code",
   "execution_count": null,
   "id": "478d5b54-fac2-4751-b59e-0330435081b6",
   "metadata": {},
   "outputs": [],
   "source": [
    "import matplotlib.pyplot as plt\n",
    "import matplotlib.font_manager\n",
    "import matplotlib.image as mpimg\n",
    "print(f\"available fonts: {sorted([f.name for f in matplotlib.font_manager.fontManager.ttflist])}\")\n",
    "\n",
    "plt.style.use('seaborn-muted')\n",
    "\n",
    "plt.rcParams[\"figure.dpi\"] = 300\n",
    "plt.rcParams[\"savefig.dpi\"] = 300\n",
    "plt.rcParams[\"savefig.format\"] = \"pdf\"\n",
    "plt.rcParams[\"savefig.bbox\"] = \"tight\"\n",
    "plt.rcParams[\"savefig.pad_inches\"] = 0.1\n",
    "\n",
    "plt.rcParams['figure.titlesize'] = 18\n",
    "plt.rcParams['axes.titlesize'] = 18\n",
    "plt.rcParams['font.family'] = 'Helvetica'\n",
    "plt.rcParams['font.size'] = 18\n",
    "\n",
    "plt.rcParams[\"lines.linewidth\"] = 2\n",
    "plt.rcParams['axes.labelsize'] = 16\n",
    "plt.rcParams['axes.labelweight'] = 'bold'\n",
    "plt.rcParams['xtick.labelsize'] = 16\n",
    "plt.rcParams['ytick.labelsize'] = 16\n",
    "plt.rcParams['legend.fontsize'] = 16\n",
    "plt.rcParams['axes.linewidth'] = 2\n",
    "plt.rcParams['axes.titlepad'] = 6\n",
    "\n",
    "plt.rcParams['mathtext.fontset'] = 'dejavuserif'\n",
    "plt.rcParams['mathtext.it'] = 'serif:italic'\n",
    "plt.rcParams['lines.marker'] = \"\"\n",
    "plt.rcParams['legend.frameon'] = False"
   ]
  },
  {
   "cell_type": "code",
   "execution_count": null,
   "id": "e469ea93-e031-4883-8b3d-b7345bc7a1fd",
   "metadata": {},
   "outputs": [],
   "source": [
    "def list2count(_list):\n",
    "    count = defaultdict(int)\n",
    "    for x in _list:\n",
    "        count[x] += 1\n",
    "    count = {key: val for key, val in sorted(count.items())}\n",
    "    return count\n",
    "\n",
    "def show_statistics(data):\n",
    "    print(f\"Total samples: {len(data)}\")\n",
    "    \n",
    "    source_count = defaultdict(int)\n",
    "    for sample in data:\n",
    "        source_count[sample[\"ori\"]] += 1\n",
    "    print(f\"Source count: {json.dumps(source_count, indent=2)}\")\n",
    "    \n",
    "    steps = []\n",
    "    for sample in data:\n",
    "        n_step = len(sample[\"annotation\"])\n",
    "        steps.append(n_step)\n",
    "    steps_count = list2count(steps)\n",
    "    # print(f\"Steps count: {json.dumps(steps_count, indent=2)}\")\n",
    "    print(f\"Total steps: {sum(steps)}, total states: {sum(steps) + len(steps)}\")\n",
    "    \n",
    "    cross_steps_count = list2count([steps[i] for i, sample in enumerate(data) if sample[\"ori\"] == \"cross\"])\n",
    "    var_steps_count = list2count([steps[i] for i, sample in enumerate(data) if sample[\"ori\"] == \"var\"])\n",
    "    coin_steps_count = list2count([steps[i] for i, sample in enumerate(data) if sample[\"ori\"] == \"coin\"])\n",
    "    \n",
    "    width, height = plt.figaspect(0.3)\n",
    "    fig, (ax1, ax2) = plt.subplots(1, 2, figsize=(width, height))\n",
    "    \n",
    "    ax1.plot(range(len(steps)), steps, linewidth=1)\n",
    "    ax1.set_title(\"Step Overview\",  fontstyle='italic')\n",
    "    ax1.set_xlabel(\"samples\")\n",
    "    ax1.set_ylabel(\"steps\")\n",
    "    \n",
    "    ax2.plot(steps_count.keys(), steps_count.values(), \"-\", label=\"total\")\n",
    "    ax2.plot(cross_steps_count.keys(), cross_steps_count.values(), \"--\", label=\"cross\")\n",
    "    ax2.plot(var_steps_count.keys(), var_steps_count.values(), \":\", label=\"var\")\n",
    "    ax2.plot(coin_steps_count.keys(), coin_steps_count.values(), \"-.\", label=\"coin\")\n",
    "\n",
    "    ax2.set_title(\"Step Count\", fontstyle=\"italic\")\n",
    "    ax2.set_xlabel(\"steps\")\n",
    "    ax2.set_ylabel(\"number of samples\")\n",
    "    ax2.legend(loc='best', numpoints=1, fancybox=False)\n",
    "    \n",
    "    \n",
    "    # plt.subplots_adjust(hspace=0.25, wspace=0.40)\n",
    "    plt.subplots_adjust(top=0.8, hspace=None, wspace=None) \n",
    "\n",
    "    fig.suptitle(\"Statistics of VTT dataset\")"
   ]
  },
  {
   "cell_type": "code",
   "execution_count": null,
   "id": "f84fc155-6f33-421b-b9ca-a36e664090d1",
   "metadata": {},
   "outputs": [],
   "source": [
    "with jsonlines.open(\"../data/vtt_non_overlap.jsonl\") as reader:\n",
    "    data = list(reader)\n",
    "show_statistics(data)\n",
    "plt.savefig(\"statistics-all.pdf\")"
   ]
  },
  {
   "cell_type": "code",
   "execution_count": null,
   "id": "ea7aa83d-ecf7-4c7e-be4d-02f10d4f2820",
   "metadata": {},
   "outputs": [],
   "source": [
    "with jsonlines.open(\"../data/vtt.jsonl\") as reader:\n",
    "    data = list(reader)\n",
    "show_statistics(data)"
   ]
  },
  {
   "cell_type": "markdown",
   "id": "47a96f54-767c-48fe-8406-dfa2ce3f2b57",
   "metadata": {},
   "source": [
    "## Samples are health"
   ]
  },
  {
   "cell_type": "code",
   "execution_count": null,
   "id": "858e938e-23f0-4f0c-83c6-c1a98048bc20",
   "metadata": {},
   "outputs": [],
   "source": [
    "with jsonlines.open(\"/data/reason/vtt/meta/report_extract_states.jsonl\") as reader:\n",
    "    data = list(reader)\n",
    "success = [sample for sample in data if sample[\"status\"] == \"success\"]\n",
    "show_statistics(success)"
   ]
  },
  {
   "cell_type": "markdown",
   "id": "6e863340-cb83-4b14-9ec8-b08681b9016c",
   "metadata": {},
   "source": [
    "## missing statistics"
   ]
  },
  {
   "cell_type": "code",
   "execution_count": null,
   "id": "7a7b9880-5de1-4f8a-b27b-f72cc76f020a",
   "metadata": {},
   "outputs": [],
   "source": [
    "missing = defaultdict(int)\n",
    "for sample in data:\n",
    "    if sample[\"status\"] == \"missing\":\n",
    "        missing[sample[\"ori\"]] += 1\n",
    "print(dict(missing))"
   ]
  },
  {
   "cell_type": "markdown",
   "id": "ac061eec-7edd-4791-977a-8a5e81f6807f",
   "metadata": {},
   "source": [
    "## sentence statistics"
   ]
  },
  {
   "cell_type": "code",
   "execution_count": null,
   "id": "6a405476-ff7b-4d20-b8d4-344d59ef803e",
   "metadata": {},
   "outputs": [],
   "source": [
    "import spacy\n",
    "\n",
    "# English pipelines include a rule-based lemmatizer\n",
    "nlp = spacy.load(\"en_core_web_sm\")\n",
    "lemmatizer = nlp.get_pipe(\"lemmatizer\")\n",
    "print(lemmatizer.mode)  # 'rule'\n",
    "\n",
    "doc = nlp(\"I was reading the paper.\")\n",
    "print([token.lemma_ for token in doc])\n",
    "# ['I', 'be', 'read', 'the', 'paper', '.']"
   ]
  },
  {
   "cell_type": "code",
   "execution_count": null,
   "id": "e5dd394d-94a8-40da-a6cc-27fe72126501",
   "metadata": {},
   "outputs": [],
   "source": [
    "with jsonlines.open(\"/data/reason/vtt/meta/report_extract_states.jsonl\") as reader:\n",
    "    data = list(reader)\n",
    "data = [sample for sample in data if sample[\"status\"] == \"success\"]\n",
    "sentences = defaultdict(list)\n",
    "words = defaultdict(lambda: defaultdict(int))\n",
    "for sample in tqdm(data):\n",
    "    for step in sample[\"annotation\"]:\n",
    "        sentences[sample[\"ori\"]].append(len(step['label'].split()))\n",
    "        doc = nlp(step['label'])\n",
    "        for word in doc:\n",
    "            word = str(word)\n",
    "            if word not in [\",\", \".\"]:\n",
    "                words[sample[\"ori\"]][word] += 1\n",
    "sentences_count = {}\n",
    "for key, val in sentences.items():\n",
    "    sentences_count[key] = list2count(val)"
   ]
  },
  {
   "cell_type": "code",
   "execution_count": null,
   "id": "c0f8a9e3-a044-47e7-8b5c-bcf8441c6e6a",
   "metadata": {},
   "outputs": [],
   "source": [
    "plt.figure()\n",
    "for key, val in sentences_count.items():\n",
    "    plt.plot(val.keys(), val.values(), label=key)\n",
    "plt.title(\"Sentences Length Count\", fontstyle=\"italic\")\n",
    "plt.xlabel(\"length\")\n",
    "plt.ylabel(\"Count\")\n",
    "plt.legend(loc='best', numpoints=1, fancybox=False)\n",
    "plt.savefig(\"statistics-sentences.pdf\")"
   ]
  },
  {
   "cell_type": "code",
   "execution_count": null,
   "id": "9ee3b1bb-550d-4b0a-9a39-4b12b2aec5da",
   "metadata": {},
   "outputs": [],
   "source": [
    "top_words"
   ]
  },
  {
   "cell_type": "code",
   "execution_count": null,
   "id": "fe809a47-c5f9-4d6b-b0aa-f55c30ed6664",
   "metadata": {},
   "outputs": [],
   "source": [
    "plt.style.use('seaborn-muted')\n",
    "\n",
    "plt.rcParams[\"figure.dpi\"] = 300\n",
    "plt.rcParams[\"savefig.dpi\"] = 300\n",
    "plt.rcParams[\"savefig.format\"] = \"pdf\"\n",
    "plt.rcParams[\"savefig.bbox\"] = \"tight\"\n",
    "plt.rcParams[\"savefig.pad_inches\"] = 0.1\n",
    "\n",
    "plt.rcParams['figure.titlesize'] = 8\n",
    "plt.rcParams['axes.titlesize'] = 6\n",
    "plt.rcParams['font.family'] = 'Helvetica'\n",
    "plt.rcParams['font.size'] = 18\n",
    "\n",
    "plt.rcParams[\"lines.linewidth\"] = 2\n",
    "plt.rcParams['axes.labelsize'] = 16\n",
    "plt.rcParams['axes.labelweight'] = 'bold'\n",
    "plt.rcParams['xtick.labelsize'] = 3\n",
    "plt.rcParams['ytick.labelsize'] = 5\n",
    "plt.rcParams['legend.fontsize'] = 16\n",
    "plt.rcParams['axes.linewidth'] = 1\n",
    "plt.rcParams['axes.titlepad'] = 6\n",
    "\n",
    "plt.rcParams['mathtext.fontset'] = 'dejavuserif'\n",
    "plt.rcParams['mathtext.it'] = 'serif:italic'\n",
    "plt.rcParams['lines.marker'] = \"\"\n",
    "plt.rcParams['legend.frameon'] = False\n",
    "width, height = plt.figaspect(1)\n",
    "n_subset = len(words)\n",
    "fig, axs = plt.subplots(n_subset, 1, figsize=(width, height))\n",
    "for i, (key, val) in enumerate(words.items()):\n",
    "    top_words = sorted(\n",
    "        [\n",
    "            item for item in val.items()\n",
    "            if item[0] not in [\"the\", \"a\", \"and\", \" \", \"is\", \"of\", \"are\", \"A\"]],\n",
    "        key=lambda x: x[1], reverse=True)[:20]\n",
    "    w, c = zip(*top_words)\n",
    "    axs[i].bar(w, c)\n",
    "    axs[i].set_title(key,  fontstyle='italic')\n",
    "    # axs[i].set_xlabel(\"samples\")\n",
    "    # axs[i].set_ylabel(\"steps\")\n",
    "# plt.title(\"Word Distribution\", fontstyle=\"italic\")\n",
    "# plt.xlabel(\"length\")\n",
    "# plt.ylabel(\"Count\")\n",
    "# plt.legend(loc='best', numpoints=1, fancybox=False)\n",
    "# plt.savefig(\"statistics-sentences.pdf\")\n",
    "plt.subplots_adjust(top=None, hspace=0.5, wspace=None) \n",
    "\n",
    "fig.suptitle(\"Word frequences\")\n",
    "plt.savefig(\"word_freq.png\")"
   ]
  },
  {
   "cell_type": "code",
   "execution_count": null,
   "id": "aa34c99b-d53f-4467-a61c-0901e2058b12",
   "metadata": {},
   "outputs": [],
   "source": []
  }
 ],
 "metadata": {
  "kernelspec": {
   "display_name": "Python 3 (ipykernel)",
   "language": "python",
   "name": "python3"
  },
  "language_info": {
   "codemirror_mode": {
    "name": "ipython",
    "version": 3
   },
   "file_extension": ".py",
   "mimetype": "text/x-python",
   "name": "python",
   "nbconvert_exporter": "python",
   "pygments_lexer": "ipython3",
   "version": "3.9.7"
  }
 },
 "nbformat": 4,
 "nbformat_minor": 5
}
