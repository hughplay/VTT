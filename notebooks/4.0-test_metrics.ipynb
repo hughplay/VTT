{
 "cells": [
  {
   "cell_type": "code",
   "execution_count": 1,
   "id": "9f2b9ad2-c48d-4ccd-8856-ef663ad1f44d",
   "metadata": {},
   "outputs": [],
   "source": [
    "%load_ext autoreload\n",
    "%autoreload 2"
   ]
  },
  {
   "cell_type": "code",
   "execution_count": 2,
   "id": "286bcadb-c345-4536-be0a-8c5b3c04f34d",
   "metadata": {},
   "outputs": [],
   "source": [
    "import sys\n",
    "sys.path.append(\"..\")"
   ]
  },
  {
   "cell_type": "code",
   "execution_count": 3,
   "id": "b70cc652-415e-4025-addf-49b04b1caf38",
   "metadata": {},
   "outputs": [],
   "source": [
    "from src.criterion.tell import TTCriterion, CIDEr, coco_fmt_sequences, PTBTokenizer\n",
    "import torch"
   ]
  },
  {
   "cell_type": "code",
   "execution_count": 4,
   "id": "b2232963-8454-4bfb-9c53-5945ab43cd08",
   "metadata": {},
   "outputs": [],
   "source": [
    "ttc = TTCriterion()"
   ]
  },
  {
   "cell_type": "code",
   "execution_count": 5,
   "id": "a5dda5ce-3f02-4edb-bcbb-25302976f0c2",
   "metadata": {},
   "outputs": [],
   "source": [
    "ttc = ttc.to(torch.device(\"cuda:5\"))"
   ]
  },
  {
   "cell_type": "code",
   "execution_count": 6,
   "id": "b09fb2df-58a8-4dff-afeb-ac4d7a8e01b7",
   "metadata": {},
   "outputs": [
    {
     "name": "stderr",
     "output_type": "stream",
     "text": [
      "PTBTokenizer tokenized 11 tokens at 317.08 tokens per second.\n",
      "PTBTokenizer tokenized 11 tokens at 317.31 tokens per second.\n",
      "PTBTokenizer tokenized 11 tokens at 316.58 tokens per second.\n",
      "PTBTokenizer tokenized 11 tokens at 323.31 tokens per second.\n",
      "PTBTokenizer tokenized 11 tokens at 327.32 tokens per second.\n",
      "PTBTokenizer tokenized 11 tokens at 330.12 tokens per second.\n"
     ]
    }
   ],
   "source": [
    "ttc.update([\"the cat is on the mat\", \"this is my world\"], [\"the cat is on the mat\", \"this is your world\"])"
   ]
  },
  {
   "cell_type": "code",
   "execution_count": 7,
   "id": "33633138-8cf9-4c46-93fd-14d2109d2804",
   "metadata": {
    "tags": []
   },
   "outputs": [
    {
     "name": "stdout",
     "output_type": "stream",
     "text": [
      "BLEU_4: 0.0009052753448486328\n",
      "ROUGE: 0.0037636756896972656\n",
      "METEOR: 5.984306335449219e-05\n",
      "CIDEr: 0.0007739067077636719\n"
     ]
    },
    {
     "name": "stderr",
     "output_type": "stream",
     "text": [
      "Some weights of the model checkpoint at roberta-large were not used when initializing RobertaModel: ['lm_head.bias', 'lm_head.layer_norm.bias', 'lm_head.layer_norm.weight', 'lm_head.dense.weight', 'lm_head.decoder.weight', 'lm_head.dense.bias']\n",
      "- This IS expected if you are initializing RobertaModel from the checkpoint of a model trained on another task or with another architecture (e.g. initializing a BertForSequenceClassification model from a BertForPreTraining model).\n",
      "- This IS NOT expected if you are initializing RobertaModel from the checkpoint of a model that you expect to be exactly identical (initializing a BertForSequenceClassification model from a BertForSequenceClassification model).\n"
     ]
    },
    {
     "name": "stdout",
     "output_type": "stream",
     "text": [
      "BERTScore: 43.446526765823364\n"
     ]
    },
    {
     "data": {
      "text/plain": [
       "{'BLEU_4': tensor(0., device='cuda:5'),\n",
       " 'ROUGE': tensor(0.4375, device='cuda:5'),\n",
       " 'METEOR': tensor(0.2316, device='cuda:5'),\n",
       " 'CIDEr': tensor(6.2500, device='cuda:5'),\n",
       " 'BERTScore': tensor(0.9988, device='cuda:5')}"
      ]
     },
     "execution_count": 7,
     "metadata": {},
     "output_type": "execute_result"
    }
   ],
   "source": [
    "ttc.compute()"
   ]
  },
  {
   "cell_type": "code",
   "execution_count": null,
   "id": "2c4fe9fe-abc3-4390-a62e-2cc6ba947e36",
   "metadata": {},
   "outputs": [],
   "source": []
  }
 ],
 "metadata": {
  "kernelspec": {
   "display_name": "Python 3 (ipykernel)",
   "language": "python",
   "name": "python3"
  },
  "language_info": {
   "codemirror_mode": {
    "name": "ipython",
    "version": 3
   },
   "file_extension": ".py",
   "mimetype": "text/x-python",
   "name": "python",
   "nbconvert_exporter": "python",
   "pygments_lexer": "ipython3",
   "version": "3.8.13"
  }
 },
 "nbformat": 4,
 "nbformat_minor": 5
}
