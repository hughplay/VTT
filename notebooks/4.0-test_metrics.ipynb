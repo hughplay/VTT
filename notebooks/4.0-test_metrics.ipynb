{
 "cells": [
  {
   "cell_type": "code",
   "execution_count": null,
   "id": "9f2b9ad2-c48d-4ccd-8856-ef663ad1f44d",
   "metadata": {},
   "outputs": [],
   "source": [
    "%load_ext autoreload\n",
    "%autoreload 2"
   ]
  },
  {
   "cell_type": "code",
   "execution_count": null,
   "id": "286bcadb-c345-4536-be0a-8c5b3c04f34d",
   "metadata": {},
   "outputs": [],
   "source": [
    "import sys\n",
    "sys.path.append(\"..\")"
   ]
  },
  {
   "cell_type": "code",
   "execution_count": null,
   "id": "b70cc652-415e-4025-addf-49b04b1caf38",
   "metadata": {},
   "outputs": [],
   "source": [
    "from src.criterion.tell import TTCriterion, CIDEr, coco_fmt_sequences, PTBTokenizer\n",
    "import torch"
   ]
  },
  {
   "cell_type": "code",
   "execution_count": null,
   "id": "b2232963-8454-4bfb-9c53-5945ab43cd08",
   "metadata": {},
   "outputs": [],
   "source": [
    "ttc = TTCriterion()"
   ]
  },
  {
   "cell_type": "code",
   "execution_count": null,
   "id": "a5dda5ce-3f02-4edb-bcbb-25302976f0c2",
   "metadata": {},
   "outputs": [],
   "source": [
    "ttc = ttc.to(torch.device(\"cuda:7\"))"
   ]
  },
  {
   "cell_type": "code",
   "execution_count": null,
   "id": "b09fb2df-58a8-4dff-afeb-ac4d7a8e01b7",
   "metadata": {},
   "outputs": [],
   "source": [
    "ttc.update([\"the cat is on the mat\", \"this is my world\"], [\"the cat is on the mat\", \"this is your world\"])"
   ]
  },
  {
   "cell_type": "code",
   "execution_count": null,
   "id": "33633138-8cf9-4c46-93fd-14d2109d2804",
   "metadata": {
    "tags": []
   },
   "outputs": [],
   "source": [
    "ttc.compute()"
   ]
  },
  {
   "cell_type": "code",
   "execution_count": null,
   "id": "366deeb2-a306-47fc-ac0c-f3475cbf88ff",
   "metadata": {},
   "outputs": [],
   "source": []
  }
 ],
 "metadata": {
  "kernelspec": {
   "display_name": "Python 3 (ipykernel)",
   "language": "python",
   "name": "python3"
  },
  "language_info": {
   "codemirror_mode": {
    "name": "ipython",
    "version": 3
   },
   "file_extension": ".py",
   "mimetype": "text/x-python",
   "name": "python",
   "nbconvert_exporter": "python",
   "pygments_lexer": "ipython3",
   "version": "3.8.13"
  }
 },
 "nbformat": 4,
 "nbformat_minor": 5
}
