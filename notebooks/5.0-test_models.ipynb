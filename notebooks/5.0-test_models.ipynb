{
 "cells": [
  {
   "cell_type": "code",
   "execution_count": null,
   "id": "10dc9b37-e9af-4896-9151-2af37b48e7ad",
   "metadata": {},
   "outputs": [],
   "source": [
    "%load_ext autoreload\n",
    "%autoreload 2"
   ]
  },
  {
   "cell_type": "code",
   "execution_count": null,
   "id": "6fbd89aa-a61e-40b2-b5a2-84207476ab53",
   "metadata": {},
   "outputs": [],
   "source": [
    "import sys\n",
    "sys.path.append(\"..\")"
   ]
  },
  {
   "cell_type": "code",
   "execution_count": null,
   "id": "99ddccb7-8777-46b5-950a-78c25b277419",
   "metadata": {},
   "outputs": [],
   "source": [
    "## Image Encoder"
   ]
  },
  {
   "cell_type": "code",
   "execution_count": null,
   "id": "85111346-8be7-4486-a1ce-409758bb7d70",
   "metadata": {},
   "outputs": [],
   "source": [
    "import torch\n",
    "from src.model.components.image_encoder import ImageEncoder, available_models\n",
    "encoder = ImageEncoder(\"resnet18\", pretrained=False)\n",
    "img = torch.zeros(2,3,224,224)\n",
    "encoder.eval()\n",
    "x = encoder(img)\n",
    "x.shape"
   ]
  },
  {
   "cell_type": "code",
   "execution_count": null,
   "id": "2fa0252a-308e-47b9-bc8e-5c06bd84aaee",
   "metadata": {},
   "outputs": [],
   "source": [
    "encoder = ImageEncoder(\"inception_v3\", pretrained=False, promise_input_dim=299)\n",
    "img = torch.zeros(2,3,299,299)\n",
    "encoder.eval()\n",
    "x = encoder(img)\n",
    "x.shape"
   ]
  },
  {
   "cell_type": "markdown",
   "id": "8acc4a3c-2136-4d99-8a23-e21bb8043cfb",
   "metadata": {},
   "source": [
    "## Context Encoder"
   ]
  },
  {
   "cell_type": "code",
   "execution_count": null,
   "id": "035bf2fa-a2a1-4f54-9655-8b26d4fec644",
   "metadata": {},
   "outputs": [],
   "source": [
    "import torch\n",
    "from src.model.components.context_encoder import SimpleLSTMContext, GLocalContext, TransformerContext"
   ]
  },
  {
   "cell_type": "code",
   "execution_count": null,
   "id": "42917dab-3802-46f6-9ecd-4b1d452daaa8",
   "metadata": {},
   "outputs": [],
   "source": [
    "encoder = SimpleLSTMContext(bidirectional=True)\n",
    "x = torch.zeros(3,5,512).float()\n",
    "mask = torch.rand(3,5) > 0.5\n",
    "y = encoder(x, mask)\n",
    "print(f\"context: {y['context'].shape}\")\n",
    "print(f\"state h_n: {y['state'][0].shape}\")\n",
    "print(f\"state c_n: {y['state'][1].shape}\")"
   ]
  },
  {
   "cell_type": "code",
   "execution_count": null,
   "id": "fc8202b0-51b0-46dc-828a-216a615da4ee",
   "metadata": {},
   "outputs": [],
   "source": [
    "encoder = GLocalContext()\n",
    "x = torch.zeros(2,5,512).float()\n",
    "mask = torch.rand(2,5) > 0.5\n",
    "y = encoder(x, mask)\n",
    "print(f\"context: {y['context'].shape}\")\n",
    "print(f\"state h_n: {y['state'][0].shape}\")\n",
    "print(f\"state c_n: {y['state'][1].shape}\")"
   ]
  },
  {
   "cell_type": "code",
   "execution_count": null,
   "id": "1ef51942-17b2-4480-ab5d-4f738c3fe501",
   "metadata": {},
   "outputs": [],
   "source": [
    "encoder = TransformerContext()\n",
    "x = torch.zeros(2,5,512).float()\n",
    "mask = torch.rand(2,5) > 0.5\n",
    "y = encoder(x, mask)\n",
    "print(f\"context: {y['context'].shape}\")\n",
    "for i, attn in enumerate(y['attention']):\n",
    "    print(f\"{i}: {attn.shape}\")"
   ]
  },
  {
   "cell_type": "markdown",
   "id": "9ef8a2a1-0d62-4f70-8d12-ffdcc602f854",
   "metadata": {},
   "source": [
    "## text decoder"
   ]
  },
  {
   "cell_type": "code",
   "execution_count": null,
   "id": "b23557fd-4f69-4349-bf1c-9e3abfc46bcc",
   "metadata": {},
   "outputs": [],
   "source": [
    "import torch\n",
    "from src.model.components.text_decoder import ContextLSTMText, N_WORDS, IndependentLSTMText, TransformerText"
   ]
  },
  {
   "cell_type": "code",
   "execution_count": null,
   "id": "943d1445-72d4-4ad5-8247-121e604d9031",
   "metadata": {},
   "outputs": [],
   "source": [
    "decoder = IndependentLSTMText()\n",
    "features = torch.zeros(2, 5, 512)\n",
    "hn = torch.zeros(1, 2, 512)\n",
    "cn = torch.zeros(1, 2, 512)\n",
    "mask = torch.rand(2,5,24) > 0.5\n",
    "captions = torch.randint(0, N_WORDS, (2, 5, 24))\n",
    "x = decoder((hn, cn), features, captions=captions, mask=mask)\n",
    "x.shape"
   ]
  },
  {
   "cell_type": "code",
   "execution_count": null,
   "id": "442eee8f-4fb4-4551-aa03-1458ef0dd402",
   "metadata": {},
   "outputs": [],
   "source": [
    "decoder = ContextLSTMText()\n",
    "context = torch.zeros(2, 5, 512)\n",
    "mask = torch.rand(2,5,24) > 0.5\n",
    "captions = torch.randint(0, N_WORDS, (2, 5, 24))\n",
    "x = decoder(context, captions, mask)\n",
    "x.shape"
   ]
  },
  {
   "cell_type": "code",
   "execution_count": null,
   "id": "ea419dfb-950c-49a8-a7e1-ded3b7b99694",
   "metadata": {},
   "outputs": [],
   "source": [
    "decoder = TransformerText()\n",
    "context = torch.zeros(2, 5, 512)\n",
    "mask = torch.rand(2,5,24) > 0.5\n",
    "captions = torch.randint(0, N_WORDS, (2, 5, 24))\n",
    "x = decoder(context, captions, mask)\n",
    "x.shape"
   ]
  },
  {
   "cell_type": "code",
   "execution_count": null,
   "id": "a5791486-30b4-43e5-820a-b87e22e2931e",
   "metadata": {},
   "outputs": [],
   "source": []
  },
  {
   "cell_type": "code",
   "execution_count": null,
   "id": "9e438f9b-ab91-42aa-ac9e-d96c2e2ab444",
   "metadata": {},
   "outputs": [],
   "source": []
  }
 ],
 "metadata": {
  "kernelspec": {
   "display_name": "Python 3 (ipykernel)",
   "language": "python",
   "name": "python3"
  },
  "language_info": {
   "codemirror_mode": {
    "name": "ipython",
    "version": 3
   },
   "file_extension": ".py",
   "mimetype": "text/x-python",
   "name": "python",
   "nbconvert_exporter": "python",
   "pygments_lexer": "ipython3",
   "version": "3.8.13"
  }
 },
 "nbformat": 4,
 "nbformat_minor": 5
}
